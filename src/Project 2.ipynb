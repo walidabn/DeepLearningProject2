{
 "cells": [
  {
   "cell_type": "markdown",
   "metadata": {},
   "source": [
    "# Modules"
   ]
  },
  {
   "cell_type": "code",
   "execution_count": 1,
   "metadata": {},
   "outputs": [
    {
     "data": {
      "text/plain": [
       "<torch.autograd.grad_mode.set_grad_enabled at 0x7fe90372f0b8>"
      ]
     },
     "execution_count": 1,
     "metadata": {},
     "output_type": "execute_result"
    }
   ],
   "source": [
    "import math\n",
    "from torch import set_grad_enabled\n",
    "from torch import empty\n",
    "set_grad_enabled(False)"
   ]
  },
  {
   "cell_type": "code",
   "execution_count": 2,
   "metadata": {},
   "outputs": [],
   "source": [
    "class Module(object):\n",
    "    \"\"\" We followed the recommended structure for a Module given in the project statement.\n",
    "    \"\"\"\n",
    "    \n",
    "    def forward(self,*input):\n",
    "        \"\"\" forward should get for input, and returns, a tensor or a tuple of tensors\n",
    "        \"\"\"\n",
    "        raise NotImplementedError\n",
    "    \n",
    "    def backward(self,*gradwrtoutput):\n",
    "        \"\"\" backward should get as input a tensor or a tuple of tensors containing the gradient of the loss\n",
    "            with respect to the module’s output, accumulate the gradient wrt the parameters, and return a\n",
    "            tensor or a tuple of tensors containing the gradient of the loss wrt the module’s input.\n",
    "        \"\"\"\n",
    "        raise NotImplementedError\n",
    "        \n",
    "    def param(self):\n",
    "        \"\"\" param should return a list of pairs, each composed of a parameter tensor, and a gradient tensor\n",
    "            of same size. This list should be empty for parameterless modules (e.g. ReLU).\n",
    "        \"\"\"\n",
    "        return []\n",
    "\n",
    "        "
   ]
  },
  {
   "cell_type": "code",
   "execution_count": 3,
   "metadata": {},
   "outputs": [],
   "source": [
    "class Linear(Module):\n",
    "    \"\"\" A Module implementing the sequential combination of several modules. It stores the individual modules in a list modules.\n",
    "    \"\"\"\n",
    "    \n",
    "    def __init__(self,input_features,output_features,bias=True):\n",
    "        super(Linear).__init__()\n",
    "        \n",
    "        self.input_features = input_features\n",
    "        self.output_features = output_features\n",
    "        \n",
    "        self.weights = empty(input_features,output_features)\n",
    "        self.weights_grad = empty(input_features,output_features)\n",
    "        \n",
    "        if bias :\n",
    "            self.bias = empty(output_features)\n",
    "            self.bias_grad = empty(output_features)\n",
    "        else : \n",
    "            self.bias = None\n",
    "            self.bias_grad = None\n",
    "        \n",
    "        self.reset()\n",
    "    \n",
    "    def reset(self):\n",
    "        \"\"\" Initializes the weights at random and the biases at 0 if they are defined\n",
    "        \"\"\"\n",
    "        \n",
    "        std = 1. / math.sqrt(self.weights.size(0))\n",
    "        self.weights.normal_(-std,std)\n",
    "        self.weights_grad.fill_(0)\n",
    "        if self.bias is not None : \n",
    "            self.bias.fill_(0)\n",
    "            self.bias_grad.fill_(0)\n",
    "    \n",
    "    \n",
    "    def forward(self,input):\n",
    "        \"\"\" Implements the forward pass for the Linear Module\n",
    "        Saves the input for the backward pass when we will need to compute gradients, under self.input  \n",
    "        Computes Y = X*w + b\n",
    "        \"\"\"\n",
    "        self.input = input.clone()\n",
    "        if self.bias is not None:\n",
    "            return self.input.matmul(self.weights).add(self.bias)\n",
    "        else :\n",
    "            return self.input.matmul(self.weights)\n",
    "        \n",
    "    def backward(self,gradwrtoutput):\n",
    "        \"\"\" Implements the backward pass for the Linear Module\n",
    "        Uses the chain rule to compute the gradients wrt the weights, bias, and input and stores them in the instance parameters\n",
    "        Arguments:\n",
    "             #gradwrtoutput : dL/dy in the backprogation formulas \n",
    "        \"\"\"\n",
    "        \n",
    "        # Computes gradient wrt weights dw = X^(T) * dy using the backpropagation formulas\n",
    "        self.weights_grad = self.input.t().matmul(gradwrtoutput)\n",
    "        \n",
    "        # Computes gradient wrt bias iff bias is not none\n",
    "        # db = dy ^ (T) * 1  using the backpropagation formulas, \n",
    "        # The sum is to take for account the possibility that we process our inputs by batches of size greater than 1, we sum the gradient contributions of independent points\n",
    "        if self.bias is not None : \n",
    "                self.bias_grad = gradwrtoutput.t().sum(1)\n",
    "            \n",
    "        # Computes gradient wrt input X dX = dY * w^(T) using the backpropagation formulas\n",
    "        return gradwrtoutput.matmul(self.weights.t())\n",
    "    \n",
    "    \n",
    "    def param(self):\n",
    "        \"\"\" Returns a list of pairs, each composed of a parameter tensor and its corresponding gradient tensor of same size\n",
    "        \"\"\"\n",
    "        if self.bias is not None : \n",
    "            return [(self.weights,self.weights_grad),(self.bias,self.bias_grad)]\n",
    "        else : \n",
    "            return [(self.weights,self.weights_grad)]\n",
    "        \n",
    "        \n",
    "        \n",
    "        \n",
    "        \n",
    "    \n",
    "        \n",
    "        \n",
    "        \n",
    "        "
   ]
  },
  {
   "cell_type": "code",
   "execution_count": 4,
   "metadata": {},
   "outputs": [],
   "source": [
    "class Tanh(Module):\n",
    "    \"\"\" A Module implementing the tanh activation function. It has no parameters.\n",
    "    \"\"\"\n",
    "    \n",
    "    def __init__(self):\n",
    "        super(Tanh).__init__()\n",
    "        \n",
    "    def forward(self,input):\n",
    "        \"\"\" Computes and returns tanh(input)\n",
    "        \"\"\"\n",
    "        self.input = input.clone()\n",
    "        return self.input.tanh()\n",
    "    \n",
    "    def backward(self,gradwrtoutput):\n",
    "        \"\"\" Computes and returns the gradient of tanh wrt the input\n",
    "        \"\"\"\n",
    "        assert(self.input is not None)\n",
    "        grad = 4. * (self.input.exp() + self.input.mul(-1).exp()).pow(-2)\n",
    "        return gradwrtoutput.mul(grad)\n",
    "    \n",
    "    def param(self):\n",
    "        \"\"\" Return the empty list since Tanh is a parameterless module\n",
    "        \"\"\"\n",
    "        return [] \n",
    "    "
   ]
  },
  {
   "cell_type": "code",
   "execution_count": 5,
   "metadata": {},
   "outputs": [],
   "source": [
    "class ReLU(Module):\n",
    "    \"\"\" A Module implementing the Rectified Linear Unit activation function. It has no parameters.\n",
    "    \"\"\"\n",
    "    \n",
    "    def __init__(self):\n",
    "        super(ReLU).__init__()\n",
    "        \n",
    "    def forward(self,input):\n",
    "        \"\"\" Computes and returns max(0,input)\n",
    "        \"\"\"\n",
    "        self.input = input.clone()\n",
    "        self.pos = (input>0).float()\n",
    "        return self.input.mul(self.pos)\n",
    "    \n",
    "    def backward(self,gradwrtoutput):\n",
    "        \"\"\" Computes and returns the gradient of the reLU function wrt the input\n",
    "        \"\"\"\n",
    "        assert(self.input is not None)\n",
    "        return gradwrtoutput.mul(self.pos)\n",
    "    \n",
    "    def param(self):\n",
    "        \"\"\" Return the empty list since ReLU is a parameterless module\n",
    "        \"\"\"\n",
    "        return []\n",
    "    \n",
    "    \n",
    "    "
   ]
  },
  {
   "cell_type": "code",
   "execution_count": 6,
   "metadata": {},
   "outputs": [],
   "source": [
    "class Sequential(Module):\n",
    "    \"\"\" A Module implementing the sequential combination of several modules. It stores the individual modules in a list modules.\n",
    "    \"\"\"\n",
    "    \n",
    "    \n",
    "    def __init__(self):\n",
    "        super(Sequential).__init__()\n",
    "        self.modules = []\n",
    "        \n",
    "    def build(self,*module):\n",
    "        \"\"\" Add to list of modules of this class each module\n",
    "        \"\"\"\n",
    "        for mod in module : \n",
    "            self.modules.append(mod)\n",
    "    \n",
    "    def forward(self,input):\n",
    "        \"\"\" Computes the forward pass by computing each of the forward passes, with as input the output of the previous forward pass\n",
    "        \"\"\"\n",
    "        input_to_module = input.clone()\n",
    "        for module in self.modules :\n",
    "            output_to_module = module.forward(input_to_module)\n",
    "            input_to_module = output_to_module\n",
    "        return output_to_module\n",
    "    \n",
    "    \n",
    "    def backward(self,gradwrtoutput):\n",
    "        \"\"\" Computes the full gradient by doing a \"right to left\" computation for each module in Sequential, and returns it\n",
    "        \"\"\"\n",
    "        gradient_acc = gradwrtoutput\n",
    "        for module in self.modules[::-1] : \n",
    "            gradient_acc = module.backward(gradient_acc)\n",
    "        return gradient_acc\n",
    "    \n",
    "        \n",
    "    \n",
    "    def param(self):\n",
    "        \"\"\" Return a list consisting of parameters of each of the modules \n",
    "        \"\"\"\n",
    "        params = []\n",
    "        for mod in self.modules : \n",
    "            params.append(mod.param())\n",
    "        return params\n",
    "    \n",
    "            \n",
    "        "
   ]
  },
  {
   "cell_type": "code",
   "execution_count": 7,
   "metadata": {},
   "outputs": [],
   "source": [
    "class LossMSE(Module):\n",
    "    \"\"\" A Module implementing the Mean Squared Error loss function.\n",
    "    We followed the pytorch nn documentation, which, by default, divides the loss and gradients by the size of inputs.\n",
    "    However, by passing an argument to the module (called \"reduction\" in the pytorch documentation) we can have instead the sum of absolute errors instead of the mean absolute error.\n",
    "    \"\"\"\n",
    "    \n",
    "    def __init__(self,mean=True):\n",
    "        super(LossMSE).__init__()\n",
    "        self.mean=mean\n",
    "        \n",
    "    def forward(self,prediction,target):\n",
    "        \"\"\" Computes the average of (prediction-target)**2 and returns the loss\n",
    "        \"\"\"\n",
    "        self.prediction = prediction \n",
    "        self.target = target\n",
    "        n = self.prediction.size()[0]\n",
    "        self.loss = (((self.prediction - self.target).float())**2).sum()\n",
    "        if self.mean : \n",
    "            return self.loss/n\n",
    "        return self.loss\n",
    "    \n",
    "    def backward(self):\n",
    "        \"\"\" Computes the derivative of the MSE loss, ie 2* (prediction - target)\n",
    "        \"\"\"\n",
    "        n = self.prediction.size()[0]\n",
    "        grad = 2 * (self.prediction - self.target).float()\n",
    "        if self.mean :\n",
    "            return grad/n\n",
    "        return grad\n",
    "    \n",
    "        "
   ]
  },
  {
   "cell_type": "markdown",
   "metadata": {},
   "source": [
    "# Bonus structures :\n",
    "\n",
    "We implemented further structures than those that were asked in the project description. Those are the extra modules, that fall into three main categories, namely :\n",
    "\n",
    "- Loss Modules (L1 and CrossEntropy)\n",
    "- Activation Modules (Sigmoid, Leaky Relu , Tanshrink and Threshold)\n",
    "- The Dropout Module\n",
    "\n",
    "\n",
    "Some ideas that could be implemented in the future would be to conceive an equivalent to torch.Optimizer, so that a developper who wishes to build upon our framework other algorithms such as ADAM, ADAgrad or other optimizers would have a framework adapted. This is why we also wrote the abstract class for an optimizer. However, since the project only required us to implement SGD for the test.py, it is left the way it is."
   ]
  },
  {
   "cell_type": "markdown",
   "metadata": {},
   "source": [
    "## Extra Modules : "
   ]
  },
  {
   "cell_type": "markdown",
   "metadata": {},
   "source": [
    "###  Loss Modules :"
   ]
  },
  {
   "cell_type": "code",
   "execution_count": 8,
   "metadata": {},
   "outputs": [],
   "source": [
    "class L1Loss(Module):\n",
    "    \"\"\" A Module implementing the L1 loss function. We followed the pytorch nn documentation, which, by default, divides the loss and gradients by the size of inputs.\n",
    "    However, by passing an argument to the module (called \"reduction\" in the pytorch documentation) we can have instead the sum of absolute errors instead of the mean absolute error.\n",
    "    \"\"\"\n",
    "    \n",
    "    def __init__(self,mean=True):\n",
    "        super(L1Loss).__init__()\n",
    "        self.mean = mean\n",
    "        \n",
    "    def forward(self,prediction,target):\n",
    "        \"\"\" Computes the average (or sum, depending on the Boolean mean) of abs(prediction-target) and returns the loss\n",
    "        \"\"\"\n",
    "        self.prediction = prediction\n",
    "        self.target = target \n",
    "        n = self.prediction.size()[0]\n",
    "        self.loss = ((abs(self.prediction - self.target)).float()).sum() \n",
    "        if self.mean : \n",
    "            return self.loss/n\n",
    "        return self.loss\n",
    "    \n",
    "    def backward(self):\n",
    "        \"\"\" Computes the average (or sum, depending on the Boolean mean) of the \"derivative\" of the L1 loss\n",
    "        \"\"\"\n",
    "        v1 =  (self.prediction - self.target > 0 ) * 1.0\n",
    "        v2 = (self.prediction - self.target < 0) * -1.0\n",
    "        n = v1.size()[0]\n",
    "        if self.mean :\n",
    "            return (v1+v2).float() / n\n",
    "        return (v1+v2).float()\n",
    "    \n",
    "        "
   ]
  },
  {
   "cell_type": "code",
   "execution_count": 9,
   "metadata": {},
   "outputs": [],
   "source": [
    "class CrossEntropyLoss(Module):\n",
    "    \"\"\" A Module implementing the cross entropy loss function, following the Module defined in torch.nn \n",
    "    \"\"\"\n",
    "    \n",
    "    \n",
    "    def __init__(self):\n",
    "        super(CrossEntropyLoss).__init__()\n",
    "        \n",
    "        \n",
    "    def forward(self,prediction,target):\n",
    "        \"\"\" Computes and returns the cross entropy loss as a function of the prediction and the target\n",
    "        \"\"\"\n",
    "        self.prediction = prediction\n",
    "        self.target = target\n",
    "        v = 1 / ((-self.prediction).exp() + 1)\n",
    "        self.loss = -((1-self.target)*((1-v).log()) + self.target*(v.log())).sum()\n",
    "        return -((1-self.target)*((1-v).log()) + self.target*(v.log())).sum()\n",
    "    \n",
    "    def backward(self):\n",
    "        \"\"\" Computes and returns the gradient of the cross entropy loss \n",
    "        \"\"\"\n",
    "        v = 1/((-self.prediction).exp() + 1)\n",
    "        return -((-(1-self.target)*((-self.prediction).exp()*(v**2))/(1-v)) + (-self.prediction).exp()*self.target*v)\n",
    "    "
   ]
  },
  {
   "cell_type": "markdown",
   "metadata": {},
   "source": [
    "### Extra Activation Modules : "
   ]
  },
  {
   "cell_type": "code",
   "execution_count": 10,
   "metadata": {},
   "outputs": [],
   "source": [
    "class Sigmoid(Module):\n",
    "    \"\"\" A Module implementing the sigmoid activation function. It has no parameters.\n",
    "    \"\"\"\n",
    "    \n",
    "    def __init__(self):\n",
    "        super(Sigmoid).__init__()\n",
    "        \n",
    "    def sigma(self,x):\n",
    "        return x.exp()/(1+x.exp())\n",
    "        \n",
    "    def forward(self,input):\n",
    "        \"\"\" Computes and returns sigma(input) = exp(input) / 1 + exp(input)\n",
    "        \"\"\"\n",
    "        self.input = input.clone()\n",
    "        return self.sigma(self.input)\n",
    "    \n",
    "    def backward(self,gradwrtoutput):\n",
    "        \"\"\" Computes and returns the gradient of sigma wrt the input\n",
    "        \"\"\"\n",
    "        assert(self.input is not None)\n",
    "        grad = self.sigma(self.input)*(1-self.sigma(self.input))\n",
    "        return gradwrtoutput.mul(grad)\n",
    "    \n",
    "    \n",
    "    def param(self):\n",
    "        \"\"\" Return the empty list since Sigmoid is a parameterless module\n",
    "        \"\"\"\n",
    "        return []\n",
    "        "
   ]
  },
  {
   "cell_type": "code",
   "execution_count": 11,
   "metadata": {},
   "outputs": [],
   "source": [
    "class LeakyReLU(Module):\n",
    "    \"\"\" A Module implementing the Leaky ReLU activation function. It has no parameters. By default, we made alpha = 0.01, since it is what is used in the leaky ReLu definition. We would have called this module PReLU if we wanted alpha to be learnable \n",
    "    \"\"\"\n",
    "    \n",
    "    def __init__(self):\n",
    "        super(LeakyReLU).__init__()\n",
    "        self.alpha = 0.01\n",
    "\n",
    "        \n",
    "    def forward(self,input):\n",
    "        \"\"\" Computes and returns Leaky ReLU(input) = max(0, input) + alpha * min(0,input) (where alpha = 0.01 from standards)\n",
    "        \"\"\"\n",
    "        self.input = input.clone()\n",
    "        self.pos = (input>0).float()\n",
    "        return self.input.mul(self.pos) + self.input * (1-self.pos).mul(self.alpha)\n",
    "    \n",
    "    def backward(self,gradwrtoutput):\n",
    "        \"\"\" Computes and returns the gradient of tanhshrink wrt the input\n",
    "        \"\"\"\n",
    "        assert(self.input is not None)\n",
    "        return (self.pos + (1-self.pos)*self.alpha).mul(gradwrtoutput)\n",
    "    \n",
    "    def param(self):\n",
    "        \"\"\" Return the empty list since LeakyReLU is a parameterless module\n",
    "        \"\"\"\n",
    "        return [] \n",
    "    "
   ]
  },
  {
   "cell_type": "code",
   "execution_count": 12,
   "metadata": {},
   "outputs": [],
   "source": [
    "class Tanhshrink(Module):\n",
    "    \"\"\" A Module implementing the tanhshrink activation function. It has no parameters.\n",
    "    \"\"\"\n",
    "    \n",
    "    def __init__(self):\n",
    "        super(Tanhshrink).__init__()\n",
    "        \n",
    "    def forward(self,input):\n",
    "        \"\"\" Computes and returns tanhshrink(input) = tanh(input) - input\n",
    "        \"\"\"\n",
    "        self.input = input.clone()\n",
    "        return self.input.tanh() - self.input\n",
    "    \n",
    "    def backward(self,gradwrtoutput):\n",
    "        \"\"\" Computes and returns the gradient of tanhshrink wrt the input\n",
    "        \"\"\"\n",
    "        assert(self.input is not None)\n",
    "        grad = 4. * (self.input.exp() + self.input.mul(-1).exp()).pow(-2)   - 1\n",
    "        return gradwrtoutput.mul(grad)\n",
    "    \n",
    "    def param(self):\n",
    "        \"\"\" Return the empty list since Tanhshrink is a parameterless module\n",
    "        \"\"\"\n",
    "        return [] \n",
    "    "
   ]
  },
  {
   "cell_type": "code",
   "execution_count": 13,
   "metadata": {},
   "outputs": [],
   "source": [
    "class Threshold(Module):\n",
    "    \"\"\" A Module implementing the Threshold activation function. It takes the constant values threshold and value. \n",
    "    The threshold operation is defined as y = x if x > threshold, otherwise y = value\n",
    "    It is a generalization of the ReLU function.\n",
    "    \"\"\"\n",
    "    \n",
    "    def __init__(self,threshold,value):\n",
    "        super(Threshold).__init__()\n",
    "        self.threshold = threshold\n",
    "        self.value = value\n",
    "        \n",
    "    def forward(self,input):\n",
    "        \"\"\" Computes and returns either the input, or the threshold, following the threshold function\n",
    "        \"\"\"\n",
    "        self.input = input.clone()\n",
    "        if self.input > self.threshold : \n",
    "            return self.input\n",
    "        else : \n",
    "            return self.value\n",
    "        \n",
    "    def backward(self,gradwrtoutput):\n",
    "        \"\"\" Computes and returns the gradient of the threshold function wrt the input in a similar way as for the ReLU\n",
    "        \"\"\"\n",
    "        assert(self.input is not None)\n",
    "        self.grt = (self.input > self.threshold).float()\n",
    "        return self.grt.mult(gradwrtoutput)\n",
    "    \n",
    "    def param(self):\n",
    "        \"\"\" Return the empty list since Threshold has no parameters to update\n",
    "        \"\"\"\n",
    "        return []\n",
    "        "
   ]
  },
  {
   "cell_type": "markdown",
   "metadata": {},
   "source": [
    "### Dropout Module"
   ]
  },
  {
   "cell_type": "code",
   "execution_count": 14,
   "metadata": {},
   "outputs": [],
   "source": [
    "class Dropout(Module):\n",
    "    \"\"\" A Module implementing the dropout of nodes in the network. By default, some nodes are dropped with probability 0.5 independently, but that probability can be customized.\n",
    "    \"\"\"    \n",
    "    \n",
    "    def __init__(self,p = 0.5):\n",
    "        super(Dropout).__init__()\n",
    "        self.train = None\n",
    "        self.p = p\n",
    "        self.binomial_distribution = None\n",
    "        self.binomial_val = None\n",
    "        \n",
    "    def forward(self,input):\n",
    "        \"\"\" This method returns either the input, or 0 depending on the value of the bernoulli RVs\n",
    "        \"\"\" \n",
    "        output = input\n",
    "        n = input.size()\n",
    "        if self.train:\n",
    "            self.binomial_distribution = torch.distributions.Binomial(probs=1-self.p)\n",
    "            self.binomial_val = self.binomial_distribution.sample(n * (1./(1-self.p)))\n",
    "            output = input * self.binomial_val\n",
    "        return output\n",
    "    \n",
    "    def backward(self, grdwrtoutput):\n",
    "        \"\"\" This method returns either the gradwrtoutput, or 0 depending on the value of the bernoulli RVs\n",
    "        \"\"\"\n",
    "        if self.train:\n",
    "            return grdwrtoutput * self.binomial_val\n",
    "        return grdwrtoutput\n",
    "    \n",
    "    def train_mode(self,mode):\n",
    "        self.train=mode\n",
    "    \n",
    "    def param(self):\n",
    "        \"\"\" Return the empty list since Dropout has no parameters to update\n",
    "        \"\"\"\n",
    "        return []\n"
   ]
  },
  {
   "cell_type": "markdown",
   "metadata": {},
   "source": [
    "### Optimizer Skeleton"
   ]
  },
  {
   "cell_type": "code",
   "execution_count": 15,
   "metadata": {},
   "outputs": [],
   "source": [
    "class Optimizer(object):\n",
    "    \"\"\" Optimizer is a skeleton that should be used for implementing various optimization algorithms, such as Adam or RMSProp.\n",
    "    \"\"\"\n",
    "    \n",
    "    def step(self,*input):\n",
    "        \"\"\" All optimizers implement a step() method, that updates the parameters depending on the optimization procedure.\n",
    "        \"\"\"\n",
    "        raise NotImplementedError\n",
    "        \n",
    "    def param(self):\n",
    "        \"\"\" This method should either return the parameters of the optimizers, if it has some, or the empty list otherwise.\n",
    "        \"\"\"\n",
    "        return []"
   ]
  },
  {
   "cell_type": "markdown",
   "metadata": {},
   "source": [
    "# Test"
   ]
  },
  {
   "cell_type": "code",
   "execution_count": 16,
   "metadata": {},
   "outputs": [
    {
     "data": {
      "text/plain": [
       "<torch.autograd.grad_mode.set_grad_enabled at 0x7fe8a4998588>"
      ]
     },
     "execution_count": 16,
     "metadata": {},
     "output_type": "execute_result"
    }
   ],
   "source": [
    "import math\n",
    "from torch import empty\n",
    "from torch import set_grad_enabled\n",
    "set_grad_enabled(False)\n"
   ]
  },
  {
   "cell_type": "code",
   "execution_count": 17,
   "metadata": {},
   "outputs": [],
   "source": [
    "def reshapeLabel(label):\n",
    "    \"\"\"'\n",
    "    Reshape 1-D [0,1,...] to 2-D [[1,-1],[-1,1],...].\n",
    "    \"\"\"\n",
    "    n = label.size(0)\n",
    "    y = empty(n, 2)\n",
    "    y[:, 0] = 2 * (0.5 - label)\n",
    "    y[:, 1] = - y[:, 0]\n",
    "    return y.float()\n",
    "\n",
    "def generate_disk_dataset(nb_points):\n",
    "    \"\"\"\n",
    "    Inspired by the practical 5, this method generates points uniformly in the unit square, with label 1 if the points are in the disc centered at (0.5,0.5) of radius 1/sqrt(2pi), and 0 otherwise\n",
    "    \"\"\"\n",
    "    input = empty(nb_points,2).uniform_(0,1)\n",
    "    label = input.sub(0.5).pow(2).sum(1).lt(1./2./math.pi).float()\n",
    "    target = reshapeLabel(label)\n",
    "    return input,target"
   ]
  },
  {
   "cell_type": "code",
   "execution_count": 18,
   "metadata": {},
   "outputs": [],
   "source": [
    "# Generate train set and test set\n",
    "nb_points = 1000\n",
    "train_input, train_target = generate_disk_dataset(nb_points)\n",
    "test_input,test_target = generate_disk_dataset(nb_points)"
   ]
  },
  {
   "cell_type": "code",
   "execution_count": 19,
   "metadata": {},
   "outputs": [
    {
     "data": {
      "text/plain": [
       "<Figure size 800x800 with 1 Axes>"
      ]
     },
     "metadata": {},
     "output_type": "display_data"
    },
    {
     "data": {
      "text/plain": [
       "<Figure size 800x800 with 1 Axes>"
      ]
     },
     "metadata": {},
     "output_type": "display_data"
    }
   ],
   "source": [
    "# Plot \n",
    "import numpy as np\n",
    "import matplotlib.pyplot as plt\n",
    "\n",
    "def plot_data(x,y,train = True):\n",
    "    \"\"\" Used to plot the generated data from the circle \"\"\"\n",
    "    plt.figure(figsize=(8,8))\n",
    "    radius=(1/(2*math.pi))**(1/2)\n",
    "    circle=plt.Circle((0.5,0.5),radius,color='g')\n",
    "    plt.gca().add_artist(circle)\n",
    "    for i in range(len(x)):\n",
    "        if y[i][0].item()==1:\n",
    "            plt.plot(x[i][0],x[i][1],'bo')\n",
    "        else:\n",
    "            plt.plot(x[i][0],x[i][1],'r+')\n",
    "   \n",
    "    plt.xlim([0,1])\n",
    "    plt.ylim([0,1])\n",
    "    plt.xlabel(\"x\",size = 18)\n",
    "    plt.ylabel(\"y\",size = 18)\n",
    "    if train :\n",
    "        #plt.title('Distribution of the train set',size = 40)\n",
    "        plt.savefig(\"Train set distribution.jpg\")  ;\n",
    "    else : \n",
    "        #plt.title('Distribution of the test set',size = 40)\n",
    "        plt.savefig(\"Test set distribution.jpg\")  ;\n",
    "\n",
    "    plt.show()\n",
    "    \n",
    "    \n",
    "plot_data(train_input,train_target)\n",
    "plot_data(test_input,test_target,False)\n"
   ]
  },
  {
   "cell_type": "code",
   "execution_count": 20,
   "metadata": {},
   "outputs": [],
   "source": [
    "# Normalization\n",
    "mu, std = train_input.mean(), train_input.std()\n",
    "train_input.sub_(mu).div_(std)\n",
    "test_input.sub_(mu).div_(std)\n",
    "\n",
    "# Build the model\n",
    "\n",
    "model = Sequential()\n",
    "model.build(Linear(2,25),ReLU(),Linear(25,25),ReLU(),Linear(25,25),ReLU(),Linear(25,2),Tanh())\n",
    "\n",
    "# Set parameters of the neural network optimization procedure \n",
    "\n",
    "epochs = 100\n",
    "learning_rate = 5e-1\n",
    "mini_batch_size = 50\n",
    "criterion = LossMSE() "
   ]
  },
  {
   "cell_type": "code",
   "execution_count": null,
   "metadata": {},
   "outputs": [],
   "source": []
  },
  {
   "cell_type": "code",
   "execution_count": 21,
   "metadata": {},
   "outputs": [
    {
     "name": "stdout",
     "output_type": "stream",
     "text": [
      "Final Train Error: 3.40% \n",
      "\n",
      "Final Test Error: 3.70% \n",
      "\n"
     ]
    }
   ],
   "source": [
    "# Train the model and logging the error\n",
    "f = open(\"error_logs.txt\",\"w\")\n",
    "train_log = []\n",
    "for epoch in range(epochs):\n",
    "    f.write(\"\\n-------------Starting epoch {}------------- : \\n\".format(epoch))\n",
    "    for batch in range(0,train_input.size(0),mini_batch_size):\n",
    "        output = model.forward(train_input.narrow(0,batch,mini_batch_size))\n",
    "        loss = criterion.forward(output,train_target.narrow(0,batch,mini_batch_size).float())\n",
    "    \n",
    "        error = (output.max(1)[1].ne(train_target.narrow(0, batch, mini_batch_size).max(1)[1]).sum()).item()/output.size(0)\n",
    "        f.write(\"Epoch {} Batch {} Loss {:4.2f} error {:4.2f}% \\n\".format(epoch,int(batch/mini_batch_size),loss,error*100))\n",
    "        gradient = criterion.backward()\n",
    "        model.backward(gradient)\n",
    "        \n",
    "        #update parameters : p = p - learning_rate * dL/dp\n",
    "        for params in model.param():\n",
    "            for param in params : \n",
    "                param[0].sub_(learning_rate * param[1])\n",
    "                \n",
    "                \n",
    "    f.write(\"\\n------------- After Epoch {} ------------- \\n \\n\".format(epoch))\n",
    "    output = model.forward(train_input)\n",
    "    loss = criterion.forward(output, train_target.float())\n",
    "    error = output.max(1)[1].ne(train_target.max(1)[1]).sum().item()/output.size(0)\n",
    "    f.write(\"Loss: {:4.2f}, Error: {:6.2%}\\n\".format(loss, error))\n",
    "    train_log.append(error)        \n",
    "        \n",
    "\n",
    "\n",
    "# Printing the errors \n",
    "\n",
    "train_output = model.forward(train_input)\n",
    "train_error = (train_output.max(1)[1].ne(train_target.max(1)[1]).sum()).item()/train_output.size(0)\n",
    "print(\"Final Train Error: {:.2%} \\n\".format(train_error))\n",
    "f.write(\"Final Train Error: {:.2%} \\n\".format(train_error))\n",
    "\n",
    "test_output = model.forward(test_input)\n",
    "test_error = (test_output.max(1)[1].ne(test_target.max(1)[1]).sum()).item()/test_output.size(0)\n",
    "print(\"Final Test Error: {:.2%} \\n\".format(test_error))      \n",
    "f.write(\"Final Test Error: {:.2%} \\n\".format(test_error))\n",
    "f.close()\n"
   ]
  },
  {
   "cell_type": "code",
   "execution_count": 22,
   "metadata": {},
   "outputs": [
    {
     "name": "stdout",
     "output_type": "stream",
     "text": [
      "100\n"
     ]
    }
   ],
   "source": [
    "print(len(train_log))"
   ]
  },
  {
   "cell_type": "code",
   "execution_count": 23,
   "metadata": {
    "scrolled": false
   },
   "outputs": [
    {
     "data": {
      "image/png": "[encoded data removed]",
      "text/plain": [
       "<Figure size 720x576 with 1 Axes>"
      ]
     },
     "metadata": {
      "needs_background": "light"
     },
     "output_type": "display_data"
    }
   ],
   "source": [
    "def plot_train_error_log(train_log):\n",
    "    \"\"\"\n",
    "    Ploting the train_error log\n",
    "    \"\"\"\n",
    "    plt.figure(figsize=(10,8))\n",
    "    plt.plot(range(0,100), np.array(train_log)*100)\n",
    "    plt.xlim(1,100)\n",
    "    plt.grid()\n",
    "    plt.xlabel(\"Epoch\", size=15)\n",
    "    plt.ylabel(\"Error Rate(%)\", size=15)\n",
    "    plt.title(\"Training Error Log\", size=20)\n",
    "    plt.savefig(\"training error log.jpg\") \n",
    "    \n",
    "plot_train_error_log(train_log)\n"
   ]
  },
  {
   "cell_type": "markdown",
   "metadata": {},
   "source": [
    "# Comparison with Pytorch"
   ]
  },
  {
   "cell_type": "code",
   "execution_count": 24,
   "metadata": {},
   "outputs": [
    {
     "data": {
      "text/plain": [
       "<torch.autograd.grad_mode.set_grad_enabled at 0x7fe8a3718d68>"
      ]
     },
     "execution_count": 24,
     "metadata": {},
     "output_type": "execute_result"
    }
   ],
   "source": [
    "from torch import set_grad_enabled\n",
    "import torch.nn as nn\n",
    "import torch.optim as optim\n",
    "set_grad_enabled(True)"
   ]
  },
  {
   "cell_type": "code",
   "execution_count": 25,
   "metadata": {},
   "outputs": [],
   "source": [
    "# Generate train set and test set\n",
    "nb_points = 1000\n",
    "train_input, train_target = generate_disk_dataset(nb_points)\n",
    "test_input,test_target = generate_disk_dataset(nb_points)"
   ]
  },
  {
   "cell_type": "code",
   "execution_count": 26,
   "metadata": {},
   "outputs": [],
   "source": [
    "# Normalization\n",
    "mu, std = train_input.mean(), train_input.std()\n",
    "train_input.sub_(mu).div_(std)\n",
    "test_input.sub_(mu).div_(std)\n",
    "\n",
    "model = nn.Sequential(nn.Linear(2,25),nn.ReLU(),nn.Linear(25,25),nn.ReLU(),nn.Linear(25,25),nn.ReLU(),nn.Linear(25,2),nn.Tanh())\n",
    "epochs = 100\n",
    "learning_rate = 5e-1\n",
    "mini_batch_size = 50\n",
    "criterion = nn.MSELoss()\n",
    "optimizer = optim.SGD(model.parameters(), lr=learning_rate)\n"
   ]
  },
  {
   "cell_type": "code",
   "execution_count": 27,
   "metadata": {},
   "outputs": [
    {
     "name": "stdout",
     "output_type": "stream",
     "text": [
      "Final Train Error: 3.50% \n",
      "\n",
      "Final Test Error: 4.30% \n",
      "\n"
     ]
    }
   ],
   "source": [
    "train_log_torch = []\n",
    "f = open(\"error_logs_torch.txt\",\"w\")\n",
    "for e in range(epochs):\n",
    "    for batch in range(0,train_input.size(0),mini_batch_size):\n",
    "\n",
    "        f.write(\"\\n-------------Starting epoch {}------------- : \\n\".format(e))\n",
    "        y_pred = model(train_input.narrow(0,batch,mini_batch_size))\n",
    "        loss = criterion(y_pred,train_target.narrow(0,batch,mini_batch_size).float())\n",
    "        optimizer.zero_grad()\n",
    "        loss.backward()\n",
    "        optimizer.step()\n",
    "    error = y_pred.max(1)[1].ne(train_target.narrow(0, batch, mini_batch_size).max(1)[1]).sum().item()/y_pred.size(0)\n",
    "    f.write(\"Epoch {} Batch {} Loss {:4.2f} error {:4.2f}% \\n\".format(epoch,int(batch/mini_batch_size),loss,error*100))\n",
    "    train_log_torch.append(error)\n",
    "        \n",
    "    \n",
    "    \n",
    "train_output_torch = model(train_input)\n",
    "train_error_torch = (train_output_torch.max(1)[1].ne(train_target.max(1)[1]).sum()).item()/train_output_torch.size(0)\n",
    "print(\"Final Train Error: {:.2%} \\n\".format(train_error_torch))\n",
    "f.write(\"Final Train Error: {:.2%} \\n\".format(train_error_torch))\n",
    "\n",
    "test_output_torch = model(test_input)\n",
    "test_error_torch = (test_output_torch.max(1)[1].ne(test_target.max(1)[1]).sum()).item()/test_output_torch.size(0)\n",
    "print(\"Final Test Error: {:.2%} \\n\".format(test_error_torch))      \n",
    "f.write(\"Final Test Error: {:.2%} \\n\".format(test_error_torch))\n",
    "f.close()\n",
    "\n",
    "\n",
    "\n"
   ]
  },
  {
   "cell_type": "code",
   "execution_count": 31,
   "metadata": {},
   "outputs": [
    {
     "data": {
      "image/png": "[encoded data removed]",
      "text/plain": [
       "<Figure size 720x576 with 1 Axes>"
      ]
     },
     "metadata": {
      "needs_background": "light"
     },
     "output_type": "display_data"
    }
   ],
   "source": [
    "def plot_train_error_log_torch(train_log1,train_log2):\n",
    "    \"\"\"\n",
    "    Ploting the train_error log\n",
    "    \"\"\"\n",
    "    plt.figure(figsize=(10,8))\n",
    "    plt.plot(range(0,100), np.array(train_log1)*100,'r',label=\"Our framework\")\n",
    "    plt.plot(range(0,100), np.array(train_log2)*100,'b',label=\"Pytorch\")\n",
    "    plt.legend(loc=\"upper right\")\n",
    "    plt.xlim(1,100)\n",
    "    plt.grid()\n",
    "    plt.xlabel(\"Epoch\", size=15)\n",
    "    plt.ylabel(\"Error Rate(%)\", size=15)\n",
    "    plt.title(\"Training Error Log Torch\", size=20)\n",
    "    plt.savefig(\"training error log Torch.jpg\") \n",
    "    \n",
    "plot_train_error_log_torch(train_log,train_log_torch)"
   ]
  }
 ],
 "metadata": {
  "kernelspec": {
   "display_name": "Python 3",
   "language": "python",
   "name": "python3"
  },
  "language_info": {
   "codemirror_mode": {
    "name": "ipython",
    "version": 3
   },
   "file_extension": ".py",
   "mimetype": "text/x-python",
   "name": "python",
   "nbconvert_exporter": "python",
   "pygments_lexer": "ipython3",
   "version": "3.7.3"
  }
 },
 "nbformat": 4,
 "nbformat_minor": 2
}
